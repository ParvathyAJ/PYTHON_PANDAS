{
 "cells": [
  {
   "cell_type": "code",
   "execution_count": 7,
   "id": "52d87784",
   "metadata": {},
   "outputs": [],
   "source": [
    "import pandas as pd\n",
    "import datetime as dt"
   ]
  },
  {
   "cell_type": "code",
   "execution_count": 9,
   "id": "892ac464",
   "metadata": {},
   "outputs": [],
   "source": [
    "day = dt.date(1998,5,15)"
   ]
  },
  {
   "cell_type": "code",
   "execution_count": 12,
   "id": "859af5f4",
   "metadata": {},
   "outputs": [
    {
     "data": {
      "text/plain": [
       "1998"
      ]
     },
     "execution_count": 12,
     "metadata": {},
     "output_type": "execute_result"
    }
   ],
   "source": [
    "day.day\n",
    "day.month\n",
    "day.year"
   ]
  },
  {
   "cell_type": "code",
   "execution_count": 15,
   "id": "7f9688c0",
   "metadata": {},
   "outputs": [
    {
     "data": {
      "text/plain": [
       "datetime.datetime(2016, 5, 15, 8, 13, 5)"
      ]
     },
     "execution_count": 15,
     "metadata": {},
     "output_type": "execute_result"
    }
   ],
   "source": [
    "dt.datetime(2016,5,15,8,13,5)"
   ]
  },
  {
   "cell_type": "code",
   "execution_count": 16,
   "id": "c2c1d7f1",
   "metadata": {},
   "outputs": [
    {
     "data": {
      "text/plain": [
       "'2016-05-15 08:13:05'"
      ]
     },
     "execution_count": 16,
     "metadata": {},
     "output_type": "execute_result"
    }
   ],
   "source": [
    "str(dt.datetime(2016,5,15,8,13,5))"
   ]
  },
  {
   "cell_type": "code",
   "execution_count": 17,
   "id": "a9fdd3a7",
   "metadata": {},
   "outputs": [
    {
     "data": {
      "text/plain": [
       "'1998-05-15'"
      ]
     },
     "execution_count": 17,
     "metadata": {},
     "output_type": "execute_result"
    }
   ],
   "source": [
    "str(day)"
   ]
  },
  {
   "cell_type": "code",
   "execution_count": 18,
   "id": "f9ff3fec",
   "metadata": {},
   "outputs": [],
   "source": [
    "tym =dt.datetime(2016,5,15,8,13,5)"
   ]
  },
  {
   "cell_type": "code",
   "execution_count": 26,
   "id": "8447da80",
   "metadata": {},
   "outputs": [
    {
     "data": {
      "text/plain": [
       "8"
      ]
     },
     "execution_count": 26,
     "metadata": {},
     "output_type": "execute_result"
    }
   ],
   "source": [
    "tym.date\n",
    "tym.day\n",
    "tym.year\n",
    "tym.min\n",
    "tym.second\n",
    "tym.hour\n"
   ]
  },
  {
   "cell_type": "code",
   "execution_count": 33,
   "id": "b7435c80",
   "metadata": {},
   "outputs": [
    {
     "data": {
      "text/plain": [
       "Timestamp('2015-05-23 20:25:55')"
      ]
     },
     "execution_count": 33,
     "metadata": {},
     "output_type": "execute_result"
    }
   ],
   "source": [
    "#  Timestamp object\n",
    "\n",
    "pd.Timestamp(\"2015-05-23\")\n",
    "pd.Timestamp(\"2015/05/23\")\n",
    "pd.Timestamp(\"1/1/2033\")\n",
    "pd.Timestamp(\"12/19/2002\")\n",
    "pd.Timestamp(\"2015-05-23 8:25:55\")\n",
    "pd.Timestamp(\"2015-05-23 8:25:55 PM\")"
   ]
  },
  {
   "cell_type": "code",
   "execution_count": 34,
   "id": "374b92cb",
   "metadata": {},
   "outputs": [
    {
     "data": {
      "text/plain": [
       "Timestamp('2015-02-01 00:00:00')"
      ]
     },
     "execution_count": 34,
     "metadata": {},
     "output_type": "execute_result"
    }
   ],
   "source": [
    "pd.Timestamp(dt.date(2015,2,1))"
   ]
  },
  {
   "cell_type": "code",
   "execution_count": 35,
   "id": "14627846",
   "metadata": {},
   "outputs": [
    {
     "data": {
      "text/plain": [
       "Timestamp('2015-02-01 05:22:44')"
      ]
     },
     "execution_count": 35,
     "metadata": {},
     "output_type": "execute_result"
    }
   ],
   "source": [
    "pd.Timestamp(dt.datetime(2015,2,1,5,22,44))"
   ]
  },
  {
   "cell_type": "code",
   "execution_count": 37,
   "id": "adc23bd7",
   "metadata": {},
   "outputs": [
    {
     "data": {
      "text/plain": [
       "DatetimeIndex(['2000-05-14', '2014-09-08'], dtype='datetime64[ns]', freq=None)"
      ]
     },
     "execution_count": 37,
     "metadata": {},
     "output_type": "execute_result"
    }
   ],
   "source": [
    "#  DateTimeIndex Object\n",
    "dates = [\"2000-05-14\", \"2014-9-8\"]\n",
    "pd.DatetimeIndex(dates)\n",
    "\n",
    "# Converts the dates from string to datetimeindex which can be used to create indexes for series or dataframes."
   ]
  },
  {
   "cell_type": "code",
   "execution_count": 39,
   "id": "e64fe1a7",
   "metadata": {},
   "outputs": [
    {
     "data": {
      "text/plain": [
       "DatetimeIndex(['2000-05-01', '2009-05-01', '2007-05-21'], dtype='datetime64[ns]', freq=None)"
      ]
     },
     "execution_count": 39,
     "metadata": {},
     "output_type": "execute_result"
    }
   ],
   "source": [
    "dates = [dt.date(2000,5,1),dt.date(2009,5,1),dt.date(2007,5,21)]\n",
    "pd.DatetimeIndex(dates)"
   ]
  },
  {
   "cell_type": "code",
   "execution_count": 41,
   "id": "ca286fc8",
   "metadata": {},
   "outputs": [
    {
     "data": {
      "text/plain": [
       "2000-05-01    100\n",
       "2009-05-01    200\n",
       "2007-05-21    300\n",
       "dtype: int64"
      ]
     },
     "execution_count": 41,
     "metadata": {},
     "output_type": "execute_result"
    }
   ],
   "source": [
    "# Create a series with values and index given above\n",
    "\n",
    "dtindex = pd.DatetimeIndex(dates)\n",
    "values = [100,200,300]\n",
    "\n",
    "pd.Series(data = values, index = dtindex)"
   ]
  },
  {
   "cell_type": "code",
   "execution_count": 54,
   "id": "77d0b7fa",
   "metadata": {},
   "outputs": [
    {
     "data": {
      "text/plain": [
       "DatetimeIndex(['2015-05-22', '2015-05-03', '1998-06-04', '2022-01-01'], dtype='datetime64[ns]', freq=None)"
      ]
     },
     "execution_count": 54,
     "metadata": {},
     "output_type": "execute_result"
    }
   ],
   "source": [
    "#  pd.to_datetime() Method\n",
    "\n",
    "pd.to_datetime(\"2010-05-12\")\n",
    "pd.to_datetime(dt.date(2015,2,15))\n",
    "pd.to_datetime(dt.datetime(2011,2,1,23,55,22))\n",
    "pd.to_datetime([\"2015-05-22\", \"2015/5/3\",\"June 4th, 1998\",\"2022\"])"
   ]
  },
  {
   "cell_type": "code",
   "execution_count": 56,
   "id": "5c65ced4",
   "metadata": {},
   "outputs": [],
   "source": [
    "times = pd.Series([\"2015-05-22\", \"2015/5/3\",\"June 4th, 1998\",\"2022\"])"
   ]
  },
  {
   "cell_type": "code",
   "execution_count": 57,
   "id": "1f30ee03",
   "metadata": {},
   "outputs": [
    {
     "data": {
      "text/plain": [
       "0        2015-05-22\n",
       "1          2015/5/3\n",
       "2    June 4th, 1998\n",
       "3              2022\n",
       "dtype: object"
      ]
     },
     "execution_count": 57,
     "metadata": {},
     "output_type": "execute_result"
    }
   ],
   "source": [
    "times"
   ]
  },
  {
   "cell_type": "code",
   "execution_count": 58,
   "id": "29282811",
   "metadata": {},
   "outputs": [
    {
     "data": {
      "text/plain": [
       "0   2015-05-22\n",
       "1   2015-05-03\n",
       "2   1998-06-04\n",
       "3   2022-01-01\n",
       "dtype: datetime64[ns]"
      ]
     },
     "execution_count": 58,
     "metadata": {},
     "output_type": "execute_result"
    }
   ],
   "source": [
    "pd.to_datetime(times)"
   ]
  },
  {
   "cell_type": "code",
   "execution_count": 62,
   "id": "9c6eb0be",
   "metadata": {},
   "outputs": [
    {
     "data": {
      "text/plain": [
       "0    July 4th,2015\n",
       "1            Hello\n",
       "2         2019-8-5\n",
       "3       2015/02/31\n",
       "dtype: object"
      ]
     },
     "execution_count": 62,
     "metadata": {},
     "output_type": "execute_result"
    }
   ],
   "source": [
    "dates = pd.Series([\"July 4th,2015\",\"Hello\",\"2019-8-5\",\"2015/02/31\"])\n",
    "dates"
   ]
  },
  {
   "cell_type": "code",
   "execution_count": 66,
   "id": "df04ef86",
   "metadata": {},
   "outputs": [
    {
     "data": {
      "text/plain": [
       "0   2015-07-04\n",
       "1          NaT\n",
       "2   2019-08-05\n",
       "3          NaT\n",
       "dtype: datetime64[ns]"
      ]
     },
     "execution_count": 66,
     "metadata": {},
     "output_type": "execute_result"
    }
   ],
   "source": [
    "pd.to_datetime(dates, errors = \"coerce\")"
   ]
  },
  {
   "cell_type": "code",
   "execution_count": 67,
   "id": "2aa6d0ed",
   "metadata": {},
   "outputs": [],
   "source": [
    "# NaT -------> Not a Time"
   ]
  },
  {
   "cell_type": "code",
   "execution_count": 70,
   "id": "9e74f667",
   "metadata": {},
   "outputs": [
    {
     "data": {
      "text/plain": [
       "DatetimeIndex(['2023-03-15 08:47:51', '2023-03-17 17:19:13',\n",
       "               '2023-03-21 17:19:11'],\n",
       "              dtype='datetime64[ns]', freq=None)"
      ]
     },
     "execution_count": 70,
     "metadata": {},
     "output_type": "execute_result"
    }
   ],
   "source": [
    "pd.to_datetime([1678870071,1679073553,1679419151], unit = 's')\n",
    "\n",
    "# Unix Timestamps"
   ]
  },
  {
   "cell_type": "code",
   "execution_count": 72,
   "id": "30cb7308",
   "metadata": {},
   "outputs": [
    {
     "data": {
      "text/plain": [
       "DatetimeIndex(['2016-01-01', '2016-01-02', '2016-01-03', '2016-01-04',\n",
       "               '2016-01-05', '2016-01-06', '2016-01-07', '2016-01-08',\n",
       "               '2016-01-09', '2016-01-10'],\n",
       "              dtype='datetime64[ns]', freq='D')"
      ]
     },
     "execution_count": 72,
     "metadata": {},
     "output_type": "execute_result"
    }
   ],
   "source": [
    "# pd.date_range() Method\n",
    "\n",
    "tt = pd.date_range(start = \"2016-1-1\", end = \"2016-1-10\", freq = \"D\")\n",
    "tt"
   ]
  },
  {
   "cell_type": "code",
   "execution_count": 76,
   "id": "02184199",
   "metadata": {},
   "outputs": [
    {
     "data": {
      "text/plain": [
       "DatetimeIndex(['2016-01-01', '2016-01-04', '2016-01-05', '2016-01-06',\n",
       "               '2016-01-07', '2016-01-08'],\n",
       "              dtype='datetime64[ns]', freq='B')"
      ]
     },
     "execution_count": 76,
     "metadata": {},
     "output_type": "execute_result"
    }
   ],
   "source": [
    "pd.date_range(start = \"2016-1-1\", end = \"2016-1-10\", freq = \"2D\")\n",
    "pd.date_range(start = \"2016-1-1\", end = \"2016-1-10\", freq = \"B\")"
   ]
  },
  {
   "cell_type": "code",
   "execution_count": 85,
   "id": "fa9aa82f",
   "metadata": {},
   "outputs": [
    {
     "data": {
      "text/plain": [
       "DatetimeIndex(['2016-01-03', '2016-01-10'], dtype='datetime64[ns]', freq='W-SUN')"
      ]
     },
     "execution_count": 85,
     "metadata": {},
     "output_type": "execute_result"
    }
   ],
   "source": [
    "pd.date_range(start = \"2016-1-1\", end = \"2016-1-10\", freq = \"W\")"
   ]
  },
  {
   "cell_type": "code",
   "execution_count": 86,
   "id": "65ec17c8",
   "metadata": {},
   "outputs": [],
   "source": [
    "#  W-SUN  sunday,\n",
    "# B -- Business day\n",
    "# W=week\n",
    "# M Month\n",
    "# MS Month Start\n",
    "# H Hour\n",
    "# A last day of each year"
   ]
  },
  {
   "cell_type": "code",
   "execution_count": 88,
   "id": "127093e3",
   "metadata": {},
   "outputs": [
    {
     "data": {
      "text/plain": [
       "DatetimeIndex(['2016-01-01', '2016-01-08'], dtype='datetime64[ns]', freq='W-FRI')"
      ]
     },
     "execution_count": 88,
     "metadata": {},
     "output_type": "execute_result"
    }
   ],
   "source": [
    "pd.date_range(start = \"2016-1-1\", end = \"2016-1-10\", freq = \"W-FRI\")"
   ]
  },
  {
   "cell_type": "code",
   "execution_count": 91,
   "id": "9825faf3",
   "metadata": {},
   "outputs": [
    {
     "data": {
      "text/plain": [
       "DatetimeIndex(['2016-01-01 00:00:00', '2016-01-01 01:00:00',\n",
       "               '2016-01-01 02:00:00', '2016-01-01 03:00:00',\n",
       "               '2016-01-01 04:00:00', '2016-01-01 05:00:00',\n",
       "               '2016-01-01 06:00:00', '2016-01-01 07:00:00',\n",
       "               '2016-01-01 08:00:00', '2016-01-01 09:00:00',\n",
       "               ...\n",
       "               '2016-01-09 15:00:00', '2016-01-09 16:00:00',\n",
       "               '2016-01-09 17:00:00', '2016-01-09 18:00:00',\n",
       "               '2016-01-09 19:00:00', '2016-01-09 20:00:00',\n",
       "               '2016-01-09 21:00:00', '2016-01-09 22:00:00',\n",
       "               '2016-01-09 23:00:00', '2016-01-10 00:00:00'],\n",
       "              dtype='datetime64[ns]', length=217, freq='H')"
      ]
     },
     "execution_count": 91,
     "metadata": {},
     "output_type": "execute_result"
    }
   ],
   "source": [
    "pd.date_range(start = \"2016-1-1\", end = \"2016-1-10\", freq = \"H\")"
   ]
  },
  {
   "cell_type": "code",
   "execution_count": 93,
   "id": "4767c414",
   "metadata": {},
   "outputs": [
    {
     "data": {
      "text/plain": [
       "DatetimeIndex(['2016-01-01 00:00:00', '2016-01-01 06:00:00',\n",
       "               '2016-01-01 12:00:00', '2016-01-01 18:00:00',\n",
       "               '2016-01-02 00:00:00', '2016-01-02 06:00:00',\n",
       "               '2016-01-02 12:00:00', '2016-01-02 18:00:00',\n",
       "               '2016-01-03 00:00:00', '2016-01-03 06:00:00',\n",
       "               '2016-01-03 12:00:00', '2016-01-03 18:00:00',\n",
       "               '2016-01-04 00:00:00', '2016-01-04 06:00:00',\n",
       "               '2016-01-04 12:00:00', '2016-01-04 18:00:00',\n",
       "               '2016-01-05 00:00:00', '2016-01-05 06:00:00',\n",
       "               '2016-01-05 12:00:00', '2016-01-05 18:00:00',\n",
       "               '2016-01-06 00:00:00', '2016-01-06 06:00:00',\n",
       "               '2016-01-06 12:00:00', '2016-01-06 18:00:00',\n",
       "               '2016-01-07 00:00:00', '2016-01-07 06:00:00',\n",
       "               '2016-01-07 12:00:00', '2016-01-07 18:00:00',\n",
       "               '2016-01-08 00:00:00', '2016-01-08 06:00:00',\n",
       "               '2016-01-08 12:00:00', '2016-01-08 18:00:00',\n",
       "               '2016-01-09 00:00:00', '2016-01-09 06:00:00',\n",
       "               '2016-01-09 12:00:00', '2016-01-09 18:00:00',\n",
       "               '2016-01-10 00:00:00'],\n",
       "              dtype='datetime64[ns]', freq='6H')"
      ]
     },
     "execution_count": 93,
     "metadata": {},
     "output_type": "execute_result"
    }
   ],
   "source": [
    "pd.date_range(start = \"2016-1-1\", end = \"2016-1-10\", freq = \"6H\")"
   ]
  },
  {
   "cell_type": "code",
   "execution_count": 97,
   "id": "171a2824",
   "metadata": {},
   "outputs": [
    {
     "data": {
      "text/plain": [
       "DatetimeIndex(['2016-01-31'], dtype='datetime64[ns]', freq='M')"
      ]
     },
     "execution_count": 97,
     "metadata": {},
     "output_type": "execute_result"
    }
   ],
   "source": [
    "pd.date_range(start = \"2016-1-1\", end = \"2016-1-31\", freq = \"M\")"
   ]
  },
  {
   "cell_type": "code",
   "execution_count": 98,
   "id": "961d33e1",
   "metadata": {},
   "outputs": [
    {
     "data": {
      "text/plain": [
       "DatetimeIndex(['2016-01-01'], dtype='datetime64[ns]', freq='MS')"
      ]
     },
     "execution_count": 98,
     "metadata": {},
     "output_type": "execute_result"
    }
   ],
   "source": [
    "pd.date_range(start = \"2016-1-1\", end = \"2016-1-31\", freq = \"MS\")"
   ]
  },
  {
   "cell_type": "code",
   "execution_count": 99,
   "id": "7b376113",
   "metadata": {},
   "outputs": [
    {
     "data": {
      "text/plain": [
       "DatetimeIndex(['2016-12-31', '2017-12-31', '2018-12-31', '2019-12-31',\n",
       "               '2020-12-31', '2021-12-31', '2022-12-31', '2023-12-31',\n",
       "               '2024-12-31', '2025-12-31', '2026-12-31', '2027-12-31',\n",
       "               '2028-12-31', '2029-12-31', '2030-12-31', '2031-12-31',\n",
       "               '2032-12-31', '2033-12-31', '2034-12-31', '2035-12-31',\n",
       "               '2036-12-31', '2037-12-31', '2038-12-31', '2039-12-31',\n",
       "               '2040-12-31', '2041-12-31', '2042-12-31', '2043-12-31',\n",
       "               '2044-12-31', '2045-12-31', '2046-12-31', '2047-12-31',\n",
       "               '2048-12-31', '2049-12-31'],\n",
       "              dtype='datetime64[ns]', freq='A-DEC')"
      ]
     },
     "execution_count": 99,
     "metadata": {},
     "output_type": "execute_result"
    }
   ],
   "source": [
    "pd.date_range(start = \"2016-1-1\", end = \"2050-1-31\", freq = \"A\")"
   ]
  },
  {
   "cell_type": "code",
   "execution_count": 100,
   "id": "956a5ecd",
   "metadata": {},
   "outputs": [
    {
     "data": {
      "text/plain": [
       "DatetimeIndex(['2016-09-09', '2016-09-10', '2016-09-11', '2016-09-12',\n",
       "               '2016-09-13', '2016-09-14', '2016-09-15', '2016-09-16',\n",
       "               '2016-09-17', '2016-09-18', '2016-09-19', '2016-09-20',\n",
       "               '2016-09-21', '2016-09-22', '2016-09-23', '2016-09-24',\n",
       "               '2016-09-25', '2016-09-26', '2016-09-27', '2016-09-28',\n",
       "               '2016-09-29', '2016-09-30', '2016-10-01', '2016-10-02',\n",
       "               '2016-10-03'],\n",
       "              dtype='datetime64[ns]', freq='D')"
      ]
     },
     "execution_count": 100,
     "metadata": {},
     "output_type": "execute_result"
    }
   ],
   "source": [
    "pd.date_range(start = \"2016-9-9\", periods=25, freq =\"D\")\n",
    "\n",
    "# Gives 25 dates 1 day apart"
   ]
  },
  {
   "cell_type": "code",
   "execution_count": 101,
   "id": "7640c70d",
   "metadata": {},
   "outputs": [
    {
     "data": {
      "text/plain": [
       "DatetimeIndex(['2016-09-09', '2016-09-12', '2016-09-13', '2016-09-14',\n",
       "               '2016-09-15', '2016-09-16', '2016-09-19', '2016-09-20',\n",
       "               '2016-09-21', '2016-09-22', '2016-09-23', '2016-09-26',\n",
       "               '2016-09-27', '2016-09-28', '2016-09-29', '2016-09-30',\n",
       "               '2016-10-03', '2016-10-04', '2016-10-05', '2016-10-06',\n",
       "               '2016-10-07', '2016-10-10', '2016-10-11', '2016-10-12',\n",
       "               '2016-10-13', '2016-10-14', '2016-10-17', '2016-10-18',\n",
       "               '2016-10-19', '2016-10-20', '2016-10-21', '2016-10-24',\n",
       "               '2016-10-25', '2016-10-26', '2016-10-27', '2016-10-28',\n",
       "               '2016-10-31', '2016-11-01', '2016-11-02', '2016-11-03',\n",
       "               '2016-11-04', '2016-11-07', '2016-11-08', '2016-11-09',\n",
       "               '2016-11-10', '2016-11-11', '2016-11-14', '2016-11-15',\n",
       "               '2016-11-16', '2016-11-17'],\n",
       "              dtype='datetime64[ns]', freq='B')"
      ]
     },
     "execution_count": 101,
     "metadata": {},
     "output_type": "execute_result"
    }
   ],
   "source": [
    "pd.date_range(start = \"2016-9-9\", periods=50, freq =\"B\")\n",
    "\n",
    "# Gives 50 business days(Skip sat and sun)"
   ]
  },
  {
   "cell_type": "code",
   "execution_count": 103,
   "id": "e9945361",
   "metadata": {},
   "outputs": [
    {
     "data": {
      "text/plain": [
       "DatetimeIndex(['2016-09-11', '2016-09-18', '2016-09-25', '2016-10-02',\n",
       "               '2016-10-09', '2016-10-16', '2016-10-23', '2016-10-30',\n",
       "               '2016-11-06', '2016-11-13', '2016-11-20', '2016-11-27',\n",
       "               '2016-12-04', '2016-12-11', '2016-12-18', '2016-12-25',\n",
       "               '2017-01-01', '2017-01-08', '2017-01-15', '2017-01-22',\n",
       "               '2017-01-29', '2017-02-05', '2017-02-12', '2017-02-19',\n",
       "               '2017-02-26', '2017-03-05', '2017-03-12', '2017-03-19',\n",
       "               '2017-03-26', '2017-04-02', '2017-04-09', '2017-04-16',\n",
       "               '2017-04-23', '2017-04-30', '2017-05-07', '2017-05-14',\n",
       "               '2017-05-21', '2017-05-28', '2017-06-04', '2017-06-11',\n",
       "               '2017-06-18', '2017-06-25', '2017-07-02', '2017-07-09',\n",
       "               '2017-07-16'],\n",
       "              dtype='datetime64[ns]', freq='W-SUN')"
      ]
     },
     "execution_count": 103,
     "metadata": {},
     "output_type": "execute_result"
    }
   ],
   "source": [
    "pd.date_range(start = \"2016-9-9\", periods=45, freq =\"W\")"
   ]
  },
  {
   "cell_type": "code",
   "execution_count": 105,
   "id": "d4ec44b0",
   "metadata": {},
   "outputs": [
    {
     "data": {
      "text/plain": [
       "DatetimeIndex(['2018-09-11', '2018-09-18', '2018-09-25', '2018-10-02',\n",
       "               '2018-10-09', '2018-10-16', '2018-10-23', '2018-10-30',\n",
       "               '2018-11-06', '2018-11-13', '2018-11-20', '2018-11-27',\n",
       "               '2018-12-04', '2018-12-11', '2018-12-18', '2018-12-25',\n",
       "               '2019-01-01', '2019-01-08', '2019-01-15', '2019-01-22',\n",
       "               '2019-01-29', '2019-02-05', '2019-02-12', '2019-02-19',\n",
       "               '2019-02-26'],\n",
       "              dtype='datetime64[ns]', freq='W-TUE')"
      ]
     },
     "execution_count": 105,
     "metadata": {},
     "output_type": "execute_result"
    }
   ],
   "source": [
    "pd.date_range(start = \"2018-9-9\", periods=25, freq =\"W-TUE\")"
   ]
  },
  {
   "cell_type": "code",
   "execution_count": 106,
   "id": "29749dd6",
   "metadata": {},
   "outputs": [
    {
     "data": {
      "text/plain": [
       "DatetimeIndex(['2016-09-09 00:00:00', '2016-09-09 07:00:00',\n",
       "               '2016-09-09 14:00:00', '2016-09-09 21:00:00',\n",
       "               '2016-09-10 04:00:00', '2016-09-10 11:00:00',\n",
       "               '2016-09-10 18:00:00', '2016-09-11 01:00:00',\n",
       "               '2016-09-11 08:00:00', '2016-09-11 15:00:00',\n",
       "               '2016-09-11 22:00:00', '2016-09-12 05:00:00',\n",
       "               '2016-09-12 12:00:00', '2016-09-12 19:00:00',\n",
       "               '2016-09-13 02:00:00', '2016-09-13 09:00:00',\n",
       "               '2016-09-13 16:00:00', '2016-09-13 23:00:00',\n",
       "               '2016-09-14 06:00:00', '2016-09-14 13:00:00',\n",
       "               '2016-09-14 20:00:00', '2016-09-15 03:00:00',\n",
       "               '2016-09-15 10:00:00', '2016-09-15 17:00:00',\n",
       "               '2016-09-16 00:00:00'],\n",
       "              dtype='datetime64[ns]', freq='7H')"
      ]
     },
     "execution_count": 106,
     "metadata": {},
     "output_type": "execute_result"
    }
   ],
   "source": [
    "pd.date_range(start = \"2016-9-9\", periods=25, freq =\"7H\")"
   ]
  },
  {
   "cell_type": "code",
   "execution_count": 108,
   "id": "46a12d11",
   "metadata": {},
   "outputs": [
    {
     "data": {
      "text/plain": [
       "DatetimeIndex(['1998-01-07', '1998-01-08', '1998-01-09', '1998-01-10',\n",
       "               '1998-01-11', '1998-01-12', '1998-01-13', '1998-01-14',\n",
       "               '1998-01-15', '1998-01-16', '1998-01-17', '1998-01-18',\n",
       "               '1998-01-19', '1998-01-20', '1998-01-21', '1998-01-22',\n",
       "               '1998-01-23', '1998-01-24', '1998-01-25', '1998-01-26',\n",
       "               '1998-01-27', '1998-01-28', '1998-01-29', '1998-01-30',\n",
       "               '1998-01-31', '1998-02-01', '1998-02-02', '1998-02-03',\n",
       "               '1998-02-04', '1998-02-05', '1998-02-06', '1998-02-07',\n",
       "               '1998-02-08', '1998-02-09', '1998-02-10', '1998-02-11',\n",
       "               '1998-02-12', '1998-02-13', '1998-02-14', '1998-02-15'],\n",
       "              dtype='datetime64[ns]', freq='D')"
      ]
     },
     "execution_count": 108,
     "metadata": {},
     "output_type": "execute_result"
    }
   ],
   "source": [
    "pd.date_range(end = \" 1998-2-15\", periods = 40, freq = \"D\")"
   ]
  },
  {
   "cell_type": "code",
   "execution_count": 109,
   "id": "7c1ab870",
   "metadata": {},
   "outputs": [
    {
     "data": {
      "text/plain": [
       "DatetimeIndex(['1997-12-22', '1997-12-23', '1997-12-24', '1997-12-25',\n",
       "               '1997-12-26', '1997-12-29', '1997-12-30', '1997-12-31',\n",
       "               '1998-01-01', '1998-01-02', '1998-01-05', '1998-01-06',\n",
       "               '1998-01-07', '1998-01-08', '1998-01-09', '1998-01-12',\n",
       "               '1998-01-13', '1998-01-14', '1998-01-15', '1998-01-16',\n",
       "               '1998-01-19', '1998-01-20', '1998-01-21', '1998-01-22',\n",
       "               '1998-01-23', '1998-01-26', '1998-01-27', '1998-01-28',\n",
       "               '1998-01-29', '1998-01-30', '1998-02-02', '1998-02-03',\n",
       "               '1998-02-04', '1998-02-05', '1998-02-06', '1998-02-09',\n",
       "               '1998-02-10', '1998-02-11', '1998-02-12', '1998-02-13'],\n",
       "              dtype='datetime64[ns]', freq='B')"
      ]
     },
     "execution_count": 109,
     "metadata": {},
     "output_type": "execute_result"
    }
   ],
   "source": [
    "pd.date_range(end = \" 1998-2-15\", periods = 40, freq = \"B\")"
   ]
  },
  {
   "cell_type": "code",
   "execution_count": 110,
   "id": "87f8c356",
   "metadata": {},
   "outputs": [
    {
     "data": {
      "text/plain": [
       "DatetimeIndex(['1997-05-17', '1997-05-24', '1997-05-31', '1997-06-07',\n",
       "               '1997-06-14', '1997-06-21', '1997-06-28', '1997-07-05',\n",
       "               '1997-07-12', '1997-07-19', '1997-07-26', '1997-08-02',\n",
       "               '1997-08-09', '1997-08-16', '1997-08-23', '1997-08-30',\n",
       "               '1997-09-06', '1997-09-13', '1997-09-20', '1997-09-27',\n",
       "               '1997-10-04', '1997-10-11', '1997-10-18', '1997-10-25',\n",
       "               '1997-11-01', '1997-11-08', '1997-11-15', '1997-11-22',\n",
       "               '1997-11-29', '1997-12-06', '1997-12-13', '1997-12-20',\n",
       "               '1997-12-27', '1998-01-03', '1998-01-10', '1998-01-17',\n",
       "               '1998-01-24', '1998-01-31', '1998-02-07', '1998-02-14'],\n",
       "              dtype='datetime64[ns]', freq='W-SAT')"
      ]
     },
     "execution_count": 110,
     "metadata": {},
     "output_type": "execute_result"
    }
   ],
   "source": [
    "pd.date_range(end = \" 1998-2-15\", periods = 40, freq = \"W-SAT\")"
   ]
  },
  {
   "cell_type": "code",
   "execution_count": 111,
   "id": "3bf8e2d3",
   "metadata": {},
   "outputs": [
    {
     "data": {
      "text/plain": [
       "DatetimeIndex(['1994-10-31', '1994-11-30', '1994-12-31', '1995-01-31',\n",
       "               '1995-02-28', '1995-03-31', '1995-04-30', '1995-05-31',\n",
       "               '1995-06-30', '1995-07-31', '1995-08-31', '1995-09-30',\n",
       "               '1995-10-31', '1995-11-30', '1995-12-31', '1996-01-31',\n",
       "               '1996-02-29', '1996-03-31', '1996-04-30', '1996-05-31',\n",
       "               '1996-06-30', '1996-07-31', '1996-08-31', '1996-09-30',\n",
       "               '1996-10-31', '1996-11-30', '1996-12-31', '1997-01-31',\n",
       "               '1997-02-28', '1997-03-31', '1997-04-30', '1997-05-31',\n",
       "               '1997-06-30', '1997-07-31', '1997-08-31', '1997-09-30',\n",
       "               '1997-10-31', '1997-11-30', '1997-12-31', '1998-01-31'],\n",
       "              dtype='datetime64[ns]', freq='M')"
      ]
     },
     "execution_count": 111,
     "metadata": {},
     "output_type": "execute_result"
    }
   ],
   "source": [
    "pd.date_range(end = \" 1998-2-15\", periods = 40, freq = \"M\")"
   ]
  },
  {
   "cell_type": "code",
   "execution_count": 114,
   "id": "4e2f0283",
   "metadata": {},
   "outputs": [
    {
     "data": {
      "text/plain": [
       "DatetimeIndex(['1996-05-01', '1996-06-01', '1996-07-01', '1996-08-01',\n",
       "               '1996-09-01', '1996-10-01', '1996-11-01', '1996-12-01',\n",
       "               '1997-01-01', '1997-02-01', '1997-03-01', '1997-04-01',\n",
       "               '1997-05-01', '1997-06-01', '1997-07-01', '1997-08-01',\n",
       "               '1997-09-01', '1997-10-01', '1997-11-01', '1997-12-01',\n",
       "               '1998-01-01', '1998-02-01'],\n",
       "              dtype='datetime64[ns]', freq='MS')"
      ]
     },
     "execution_count": 114,
     "metadata": {},
     "output_type": "execute_result"
    }
   ],
   "source": [
    "pd.date_range(end = \" 1998-2-1\", periods = 22, freq = \"MS\")"
   ]
  },
  {
   "cell_type": "code",
   "execution_count": 115,
   "id": "f347a42d",
   "metadata": {},
   "outputs": [
    {
     "data": {
      "text/plain": [
       "DatetimeIndex(['1998-01-25 12:00:00', '1998-01-25 16:00:00',\n",
       "               '1998-01-25 20:00:00', '1998-01-26 00:00:00',\n",
       "               '1998-01-26 04:00:00', '1998-01-26 08:00:00',\n",
       "               '1998-01-26 12:00:00', '1998-01-26 16:00:00',\n",
       "               '1998-01-26 20:00:00', '1998-01-27 00:00:00',\n",
       "               '1998-01-27 04:00:00', '1998-01-27 08:00:00',\n",
       "               '1998-01-27 12:00:00', '1998-01-27 16:00:00',\n",
       "               '1998-01-27 20:00:00', '1998-01-28 00:00:00',\n",
       "               '1998-01-28 04:00:00', '1998-01-28 08:00:00',\n",
       "               '1998-01-28 12:00:00', '1998-01-28 16:00:00',\n",
       "               '1998-01-28 20:00:00', '1998-01-29 00:00:00',\n",
       "               '1998-01-29 04:00:00', '1998-01-29 08:00:00',\n",
       "               '1998-01-29 12:00:00', '1998-01-29 16:00:00',\n",
       "               '1998-01-29 20:00:00', '1998-01-30 00:00:00',\n",
       "               '1998-01-30 04:00:00', '1998-01-30 08:00:00',\n",
       "               '1998-01-30 12:00:00', '1998-01-30 16:00:00',\n",
       "               '1998-01-30 20:00:00', '1998-01-31 00:00:00',\n",
       "               '1998-01-31 04:00:00', '1998-01-31 08:00:00',\n",
       "               '1998-01-31 12:00:00', '1998-01-31 16:00:00',\n",
       "               '1998-01-31 20:00:00', '1998-02-01 00:00:00'],\n",
       "              dtype='datetime64[ns]', freq='4H')"
      ]
     },
     "execution_count": 115,
     "metadata": {},
     "output_type": "execute_result"
    }
   ],
   "source": [
    "pd.date_range(end = \" 1998-2-1\", periods = 40, freq = \"4H\")"
   ]
  },
  {
   "cell_type": "code",
   "execution_count": 118,
   "id": "e527a64d",
   "metadata": {
    "collapsed": true
   },
   "outputs": [
    {
     "data": {
      "text/plain": [
       "DatetimeIndex(['2015-01-01', '2015-01-25', '2015-02-18', '2015-03-14',\n",
       "               '2015-04-07', '2015-05-01', '2015-05-25', '2015-06-18',\n",
       "               '2015-07-12', '2015-08-05',\n",
       "               ...\n",
       "               '2021-09-14', '2021-10-08', '2021-11-01', '2021-11-25',\n",
       "               '2021-12-19', '2022-01-12', '2022-02-05', '2022-03-01',\n",
       "               '2022-03-25', '2022-04-18'],\n",
       "              dtype='datetime64[ns]', length=112, freq='24D')"
      ]
     },
     "execution_count": 118,
     "metadata": {},
     "output_type": "execute_result"
    }
   ],
   "source": [
    "# .dt Accessor\n",
    "\n",
    "\n",
    "bunch = pd.date_range(start=\"2015-1-1\",end=\"2022-5-2\",freq=\"24D\")\n",
    "bunch"
   ]
  },
  {
   "cell_type": "code",
   "execution_count": 121,
   "id": "69c96e7f",
   "metadata": {},
   "outputs": [
    {
     "data": {
      "text/plain": [
       "<bound method NDFrame.head of 0     2015-01-01\n",
       "1     2015-01-25\n",
       "2     2015-02-18\n",
       "3     2015-03-14\n",
       "4     2015-04-07\n",
       "         ...    \n",
       "107   2022-01-12\n",
       "108   2022-02-05\n",
       "109   2022-03-01\n",
       "110   2022-03-25\n",
       "111   2022-04-18\n",
       "Length: 112, dtype: datetime64[ns]>"
      ]
     },
     "execution_count": 121,
     "metadata": {},
     "output_type": "execute_result"
    }
   ],
   "source": [
    "s = pd.Series(bunch)\n",
    "s.head"
   ]
  },
  {
   "cell_type": "code",
   "execution_count": 122,
   "id": "18dc1823",
   "metadata": {},
   "outputs": [
    {
     "data": {
      "text/plain": [
       "<pandas.core.indexes.accessors.DatetimeProperties object at 0x00000225BCE00C70>"
      ]
     },
     "execution_count": 122,
     "metadata": {},
     "output_type": "execute_result"
    }
   ],
   "source": [
    "s.dt"
   ]
  },
  {
   "cell_type": "code",
   "execution_count": 123,
   "id": "c61d2672",
   "metadata": {},
   "outputs": [
    {
     "data": {
      "text/plain": [
       "0       1\n",
       "1      25\n",
       "2      18\n",
       "3      14\n",
       "4       7\n",
       "       ..\n",
       "107    12\n",
       "108     5\n",
       "109     1\n",
       "110    25\n",
       "111    18\n",
       "Length: 112, dtype: int64"
      ]
     },
     "execution_count": 123,
     "metadata": {},
     "output_type": "execute_result"
    }
   ],
   "source": [
    "s.dt.day"
   ]
  },
  {
   "cell_type": "code",
   "execution_count": 126,
   "id": "06af8ac2",
   "metadata": {},
   "outputs": [
    {
     "data": {
      "text/plain": [
       "0      3\n",
       "1      6\n",
       "2      2\n",
       "3      5\n",
       "4      1\n",
       "      ..\n",
       "107    2\n",
       "108    5\n",
       "109    1\n",
       "110    4\n",
       "111    0\n",
       "Length: 112, dtype: int64"
      ]
     },
     "execution_count": 126,
     "metadata": {},
     "output_type": "execute_result"
    }
   ],
   "source": [
    "s.dt.dayofweek"
   ]
  },
  {
   "cell_type": "code",
   "execution_count": 133,
   "id": "0dc59cdd",
   "metadata": {},
   "outputs": [
    {
     "data": {
      "text/html": [
       "<div>\n",
       "<style scoped>\n",
       "    .dataframe tbody tr th:only-of-type {\n",
       "        vertical-align: middle;\n",
       "    }\n",
       "\n",
       "    .dataframe tbody tr th {\n",
       "        vertical-align: top;\n",
       "    }\n",
       "\n",
       "    .dataframe thead th {\n",
       "        text-align: right;\n",
       "    }\n",
       "</style>\n",
       "<table border=\"1\" class=\"dataframe\">\n",
       "  <thead>\n",
       "    <tr style=\"text-align: right;\">\n",
       "      <th></th>\n",
       "      <th>year</th>\n",
       "      <th>week</th>\n",
       "      <th>day</th>\n",
       "    </tr>\n",
       "  </thead>\n",
       "  <tbody>\n",
       "    <tr>\n",
       "      <th>0</th>\n",
       "      <td>2015</td>\n",
       "      <td>1</td>\n",
       "      <td>4</td>\n",
       "    </tr>\n",
       "    <tr>\n",
       "      <th>1</th>\n",
       "      <td>2015</td>\n",
       "      <td>4</td>\n",
       "      <td>7</td>\n",
       "    </tr>\n",
       "    <tr>\n",
       "      <th>2</th>\n",
       "      <td>2015</td>\n",
       "      <td>8</td>\n",
       "      <td>3</td>\n",
       "    </tr>\n",
       "    <tr>\n",
       "      <th>3</th>\n",
       "      <td>2015</td>\n",
       "      <td>11</td>\n",
       "      <td>6</td>\n",
       "    </tr>\n",
       "    <tr>\n",
       "      <th>4</th>\n",
       "      <td>2015</td>\n",
       "      <td>15</td>\n",
       "      <td>2</td>\n",
       "    </tr>\n",
       "    <tr>\n",
       "      <th>...</th>\n",
       "      <td>...</td>\n",
       "      <td>...</td>\n",
       "      <td>...</td>\n",
       "    </tr>\n",
       "    <tr>\n",
       "      <th>107</th>\n",
       "      <td>2022</td>\n",
       "      <td>2</td>\n",
       "      <td>3</td>\n",
       "    </tr>\n",
       "    <tr>\n",
       "      <th>108</th>\n",
       "      <td>2022</td>\n",
       "      <td>5</td>\n",
       "      <td>6</td>\n",
       "    </tr>\n",
       "    <tr>\n",
       "      <th>109</th>\n",
       "      <td>2022</td>\n",
       "      <td>9</td>\n",
       "      <td>2</td>\n",
       "    </tr>\n",
       "    <tr>\n",
       "      <th>110</th>\n",
       "      <td>2022</td>\n",
       "      <td>12</td>\n",
       "      <td>5</td>\n",
       "    </tr>\n",
       "    <tr>\n",
       "      <th>111</th>\n",
       "      <td>2022</td>\n",
       "      <td>16</td>\n",
       "      <td>1</td>\n",
       "    </tr>\n",
       "  </tbody>\n",
       "</table>\n",
       "<p>112 rows × 3 columns</p>\n",
       "</div>"
      ],
      "text/plain": [
       "     year  week  day\n",
       "0    2015     1    4\n",
       "1    2015     4    7\n",
       "2    2015     8    3\n",
       "3    2015    11    6\n",
       "4    2015    15    2\n",
       "..    ...   ...  ...\n",
       "107  2022     2    3\n",
       "108  2022     5    6\n",
       "109  2022     9    2\n",
       "110  2022    12    5\n",
       "111  2022    16    1\n",
       "\n",
       "[112 rows x 3 columns]"
      ]
     },
     "execution_count": 133,
     "metadata": {},
     "output_type": "execute_result"
    }
   ],
   "source": [
    "s.dt.isocalendar()"
   ]
  },
  {
   "cell_type": "code",
   "execution_count": 135,
   "id": "f412a777",
   "metadata": {},
   "outputs": [
    {
     "data": {
      "text/plain": [
       "0    2015-01-01\n",
       "19   2016-04-01\n",
       "38   2017-07-01\n",
       "dtype: datetime64[ns]"
      ]
     },
     "execution_count": 135,
     "metadata": {},
     "output_type": "execute_result"
    }
   ],
   "source": [
    "s[s.dt.is_quarter_start]"
   ]
  },
  {
   "cell_type": "code",
   "execution_count": 136,
   "id": "398f6e09",
   "metadata": {},
   "outputs": [
    {
     "data": {
      "text/plain": [
       "16   2016-01-20\n",
       "17   2016-02-13\n",
       "18   2016-03-08\n",
       "19   2016-04-01\n",
       "20   2016-04-25\n",
       "21   2016-05-19\n",
       "22   2016-06-12\n",
       "23   2016-07-06\n",
       "24   2016-07-30\n",
       "25   2016-08-23\n",
       "26   2016-09-16\n",
       "27   2016-10-10\n",
       "28   2016-11-03\n",
       "29   2016-11-27\n",
       "30   2016-12-21\n",
       "77   2020-01-23\n",
       "78   2020-02-16\n",
       "79   2020-03-11\n",
       "80   2020-04-04\n",
       "81   2020-04-28\n",
       "82   2020-05-22\n",
       "83   2020-06-15\n",
       "84   2020-07-09\n",
       "85   2020-08-02\n",
       "86   2020-08-26\n",
       "87   2020-09-19\n",
       "88   2020-10-13\n",
       "89   2020-11-06\n",
       "90   2020-11-30\n",
       "91   2020-12-24\n",
       "dtype: datetime64[ns]"
      ]
     },
     "execution_count": 136,
     "metadata": {},
     "output_type": "execute_result"
    }
   ],
   "source": [
    "s[s.dt.is_leap_year]"
   ]
  },
  {
   "cell_type": "code",
   "execution_count": null,
   "id": "e5fbb1ac",
   "metadata": {},
   "outputs": [],
   "source": []
  }
 ],
 "metadata": {
  "kernelspec": {
   "display_name": "Python 3 (ipykernel)",
   "language": "python",
   "name": "python3"
  },
  "language_info": {
   "codemirror_mode": {
    "name": "ipython",
    "version": 3
   },
   "file_extension": ".py",
   "mimetype": "text/x-python",
   "name": "python",
   "nbconvert_exporter": "python",
   "pygments_lexer": "ipython3",
   "version": "3.10.9"
  }
 },
 "nbformat": 4,
 "nbformat_minor": 5
}
